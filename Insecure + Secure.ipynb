{
 "cells": [
  {
   "cell_type": "code",
   "execution_count": 4,
   "id": "6555584a-99ef-4058-b452-7abac453ef92",
   "metadata": {},
   "outputs": [
    {
     "name": "stdin",
     "output_type": "stream",
     "text": [
      "Enter username:  admin\n",
      "Enter password:  admin123\n"
     ]
    },
    {
     "name": "stdout",
     "output_type": "stream",
     "text": [
      "Login successful!\n"
     ]
    }
   ],
   "source": [
    "# login.py (INSECURE)\n",
    "username = input(\"Enter username: \")\n",
    "password = input(\"Enter password: \")\n",
    "\n",
    "# Hardcoded credentials (very insecure!)\n",
    "if username == \"admin\" and password == \"admin123\":\n",
    "    print(\"Login successful!\")\n",
    "else:\n",
    "    print(\"Invalid credentials.\")"
   ]
  },
  {
   "cell_type": "code",
   "execution_count": null,
   "id": "e50af401-9c58-4283-8e90-e0567b40c380",
   "metadata": {},
   "outputs": [],
   "source": [
    "import bcrypt\n",
    "\n",
    "# Simulated secure password storage\n",
    "stored_password = bcrypt.hashpw(\"admin123\".encode(), bcrypt.gensalt())\n",
    "\n",
    "# User input\n",
    "username = input(\"Username: \")\n",
    "password = input(\"Password: \")\n",
    "\n",
    "# Check password\n",
    "if username == \"admin\" and bcrypt.checkpw(password.encode(), stored_password):\n",
    "    print(\"Login successful!\")\n",
    "else:\n",
    "    print(\"Invalid credentials.\")\n"
   ]
  },
  {
   "cell_type": "code",
   "execution_count": null,
   "id": "7eecb0e2-fdbf-49e3-9226-81a7fed2ecf9",
   "metadata": {},
   "outputs": [],
   "source": []
  }
 ],
 "metadata": {
  "kernelspec": {
   "display_name": "Python [conda env:base] *",
   "language": "python",
   "name": "conda-base-py"
  },
  "language_info": {
   "codemirror_mode": {
    "name": "ipython",
    "version": 3
   },
   "file_extension": ".py",
   "mimetype": "text/x-python",
   "name": "python",
   "nbconvert_exporter": "python",
   "pygments_lexer": "ipython3",
   "version": "3.12.3"
  }
 },
 "nbformat": 4,
 "nbformat_minor": 5
}
