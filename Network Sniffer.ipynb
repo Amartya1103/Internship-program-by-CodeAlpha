{
 "cells": [
  {
   "cell_type": "code",
   "execution_count": 2,
   "id": "c9463725-6f2f-4b8b-bd8b-8a3eebe47ab9",
   "metadata": {},
   "outputs": [
    {
     "name": "stdout",
     "output_type": "stream",
     "text": [
      "Collecting scapy\n",
      "  Downloading scapy-2.6.1-py3-none-any.whl.metadata (5.6 kB)\n",
      "Downloading scapy-2.6.1-py3-none-any.whl (2.4 MB)\n",
      "   ---------------------------------------- 0.0/2.4 MB ? eta -:--:--\n",
      "   ---- ----------------------------------- 0.3/2.4 MB ? eta -:--:--\n",
      "   -------- ------------------------------- 0.5/2.4 MB 2.4 MB/s eta 0:00:01\n",
      "   ------------ --------------------------- 0.8/2.4 MB 1.9 MB/s eta 0:00:01\n",
      "   --------------------- ------------------ 1.3/2.4 MB 1.9 MB/s eta 0:00:01\n",
      "   ------------------------------ --------- 1.8/2.4 MB 1.9 MB/s eta 0:00:01\n",
      "   -------------------------------------- - 2.4/2.4 MB 2.1 MB/s eta 0:00:01\n",
      "   ---------------------------------------- 2.4/2.4 MB 2.0 MB/s eta 0:00:00\n",
      "Installing collected packages: scapy\n",
      "Successfully installed scapy-2.6.1\n"
     ]
    }
   ],
   "source": [
    "!pip install scapy"
   ]
  },
  {
   "cell_type": "code",
   "execution_count": null,
   "id": "7c5b03ae-4356-4c48-b2fe-a9b2dcd59a14",
   "metadata": {},
   "outputs": [],
   "source": [
    "!conda install -c conda-forge scapy -y"
   ]
  },
  {
   "cell_type": "code",
   "execution_count": null,
   "id": "b677f983-c83d-46e3-9e1d-9750efad07a6",
   "metadata": {},
   "outputs": [],
   "source": [
    "from scapy.all import sniff\n",
    "print(\"Scapy is working!\")"
   ]
  },
  {
   "cell_type": "code",
   "execution_count": null,
   "id": "36b15203-6bf1-4da0-a6de-4c1fd1deb2af",
   "metadata": {},
   "outputs": [],
   "source": [
    "from scapy.all import sniff, IP, TCP, UDP, ICMP\n",
    "from datetime import datetime"
   ]
  },
  {
   "cell_type": "code",
   "execution_count": null,
   "id": "214717d1-0147-4691-b197-5985261e45db",
   "metadata": {},
   "outputs": [],
   "source": [
    "def process_packet(packet):\n",
    "    print(\"=\" * 60)\n",
    "    print(\"Time:\", datetime.now().strftime('%Y-%m-%d %H:%M:%S'))\n",
    "\n",
    "    if IP in packet:\n",
    "        ip_layer = packet[IP]\n",
    "        print(f\"Source IP: {ip_layer.src}\")\n",
    "        print(f\"Destination IP: {ip_layer.dst}\")\n",
    "        print(f\"Protocol: {ip_layer.proto}\")\n",
    "\n",
    "        if TCP in packet:\n",
    "            print(\"Protocol Type: TCP\")\n",
    "            print(f\"Source Port: {packet[TCP].sport}\")\n",
    "            print(f\"Destination Port: {packet[TCP].dport}\")\n",
    "        elif UDP in packet:\n",
    "            print(\"Protocol Type: UDP\")\n",
    "            print(f\"Source Port: {packet[UDP].sport}\")\n",
    "            print(f\"Destination Port: {packet[UDP].dport}\")\n",
    "        elif ICMP in packet:\n",
    "            print(\"Protocol Type: ICMP\")\n"
   ]
  },
  {
   "cell_type": "code",
   "execution_count": null,
   "id": "1ce1e362-cb57-4dff-95ae-4cb9538febaf",
   "metadata": {},
   "outputs": [],
   "source": [
    "# Run the packet sniffer (this may require admin rights)\n",
    "sniff(filter=\"ip\", prn=process_packet, store=0)"
   ]
  },
  {
   "cell_type": "code",
   "execution_count": null,
   "id": "778a46b3-c762-4215-bee3-452684c3fbc6",
   "metadata": {},
   "outputs": [],
   "source": []
  }
 ],
 "metadata": {
  "kernelspec": {
   "display_name": "Python [conda env:base] *",
   "language": "python",
   "name": "conda-base-py"
  },
  "language_info": {
   "codemirror_mode": {
    "name": "ipython",
    "version": 3
   },
   "file_extension": ".py",
   "mimetype": "text/x-python",
   "name": "python",
   "nbconvert_exporter": "python",
   "pygments_lexer": "ipython3",
   "version": "3.12.7"
  }
 },
 "nbformat": 4,
 "nbformat_minor": 5
}
